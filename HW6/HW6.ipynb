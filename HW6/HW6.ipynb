{
 "cells": [
  {
   "cell_type": "markdown",
   "metadata": {},
   "source": [
    "HW6 AMATH581 Olaiyan Alolaiyan"
   ]
  },
  {
   "cell_type": "code",
   "execution_count": 1,
   "metadata": {},
   "outputs": [],
   "source": [
    "import numpy as np\n",
    "from numpy.fft import fft2, ifft2, fftfreq\n",
    "from scipy.integrate import solve_ivp"
   ]
  },
  {
   "cell_type": "code",
   "execution_count": 2,
   "metadata": {},
   "outputs": [],
   "source": [
    "def sech(x):\n",
    "    return 1 / np.cosh(x)\n",
    "\n",
    "def tanh(x):\n",
    "    return np.sinh(x) / np.cosh(x)"
   ]
  },
  {
   "cell_type": "code",
   "execution_count": 3,
   "metadata": {},
   "outputs": [],
   "source": [
    "# Parameters\n",
    "beta = 1.0\n",
    "D1 = 0.1\n",
    "D2 = 0.1\n",
    "m = 1  \n",
    "t_span = [0, 4] \n",
    "t_eval = np.linspace(0, 4, 9) \n",
    "\n",
    "# Spatial domain\n",
    "n = 64\n",
    "L = 20.0  \n",
    "x = np.linspace(-L/2, L/2, n, endpoint=False)\n",
    "y = x\n",
    "dx = x[1] - x[0]\n",
    "X, Y = np.meshgrid(x, y)\n",
    "N = n * n \n"
   ]
  },
  {
   "cell_type": "code",
   "execution_count": 4,
   "metadata": {},
   "outputs": [],
   "source": [
    "# Initial conditions in spatial domain\n",
    "A = np.sqrt(X**2 + Y**2)\n",
    "Theta = m * np.angle(X + 1j * Y) - A\n",
    "u0 = np.tanh(A) * np.cos(Theta)\n",
    "v0 = np.tanh(A) * np.sin(Theta)\n",
    "\n",
    "# Fourier transform\n",
    "u0_hat = fft2(u0)\n",
    "v0_hat = fft2(v0)\n",
    "\n",
    "# Stack Fourier coefficients\n",
    "U0_hat = np.hstack((u0_hat.flatten(), v0_hat.flatten()))\n"
   ]
  },
  {
   "cell_type": "code",
   "execution_count": 5,
   "metadata": {},
   "outputs": [],
   "source": [
    "kx = fftfreq(n, d=dx/(2*np.pi))\n",
    "ky = fftfreq(n, d=dx/(2*np.pi))\n",
    "KX, KY = np.meshgrid(kx, ky)\n",
    "K2 = (KX)**2 + (KY)**2\n",
    "A = -K2"
   ]
  },
  {
   "cell_type": "code",
   "execution_count": 6,
   "metadata": {},
   "outputs": [],
   "source": [
    "def odefunc_fft(t, Uvec_hat):\n",
    "   \n",
    "    u_hat = Uvec_hat[:N].reshape((n, n))\n",
    "    v_hat = Uvec_hat[N:].reshape((n, n))\n",
    "    \n",
    "    u = ifft2(u_hat)\n",
    "    v = ifft2(v_hat)\n",
    "    \n",
    "    A2 = np.abs(u)**2 + np.abs(v)**2\n",
    "    \n",
    "    lam = 1 - A2\n",
    "    omega = -beta * A2\n",
    "    \n",
    "    ut = lam * u - omega * v\n",
    "    vt = omega * u + lam * v\n",
    "    \n",
    "    ut_hat = fft2(ut)\n",
    "    vt_hat = fft2(vt)\n",
    "    \n",
    "    ut_hat = ut_hat + D1 * (A * u_hat)\n",
    "    vt_hat = vt_hat + D2 * (A * v_hat)\n",
    "  \n",
    "    dUdt_hat = np.hstack((ut_hat.flatten(), vt_hat.flatten()))\n",
    "    return dUdt_hat\n"
   ]
  },
  {
   "cell_type": "code",
   "execution_count": 7,
   "metadata": {},
   "outputs": [
    {
     "name": "stdout",
     "output_type": "stream",
     "text": [
      "Shape of A1_complex: (8192, 9)\n"
     ]
    }
   ],
   "source": [
    "sol = solve_ivp(fun=odefunc_fft, t_span=t_span, y0=U0_hat, t_eval=t_eval, method='RK45', vectorized=False\n",
    ")\n",
    "\n",
    "# Extract the solution\n",
    "A1_complex = sol.y  \n",
    "\n",
    "# Verify the shape\n",
    "print(\"Shape of A1_complex:\", A1_complex.shape)  \n"
   ]
  },
  {
   "cell_type": "code",
   "execution_count": 8,
   "metadata": {},
   "outputs": [
    {
     "name": "stdout",
     "output_type": "stream",
     "text": [
      "[[ 24.94003847+0.00000000e+00j  12.73268299+1.83655624e-15j\n",
      "   -1.38095598+5.22765542e-15j ... -64.02389647-8.36974796e-15j\n",
      "  -67.76356741-1.47038510e-14j -61.18058974-1.37803792e-14j]\n",
      " [-18.55666362-5.81663109e+01j -42.51586944-4.69129224e+01j\n",
      "  -60.80795253-2.57480390e+01j ... -26.39439597+1.13082890e+02j\n",
      "    6.86544434+1.23000456e+02j  41.4436393 +1.10055312e+02j]\n",
      " [-16.04755868+3.28279829e+01j -22.03971648-4.57977740e+01j\n",
      "  -23.23089505-1.04141716e+02j ... -25.03391682-9.26527314e+01j\n",
      "  -29.2936105 -4.09594873e+01j -31.3712619 +1.56986891e+01j]\n",
      " ...\n",
      " [ 24.73021466-5.66774723e+02j  34.94179045-3.31372917e+02j\n",
      "   38.82924248-4.97842318e+01j ...   4.99619196+6.02396295e+02j\n",
      "   -9.93322885+4.90736906e+02j -25.6299042 +2.81792021e+02j]\n",
      " [ 25.33720124-3.61633792e+02j  43.00958768-4.53711746e+02j\n",
      "   51.93221654-4.47841562e+02j ... -30.76392977+2.66442187e+02j\n",
      "  -58.45411318+4.29165358e+02j -74.0191717 +5.05315322e+02j]\n",
      " [ -6.4753501 +3.96245454e+01j  15.86720969-5.83358549e+01j\n",
      "   37.73898369-1.54314883e+02j ...  37.9440317 -1.85188486e+02j\n",
      "    8.26766066-7.07121503e+01j -26.92595056+7.00038591e+01j]]\n"
     ]
    }
   ],
   "source": [
    "num_vars = 2 * N  \n",
    "\n",
    "# assert A1_complex.shape == (num_vars, len(t_eval))\n",
    "\n",
    "A1 = A1_complex  \n",
    "\n",
    "print(A1)"
   ]
  },
  {
   "cell_type": "code",
   "execution_count": 9,
   "metadata": {},
   "outputs": [],
   "source": [
    "from numpy import *\n",
    "from scipy.linalg import kron\n",
    "\n",
    "def odefunc_cheby(N):\n",
    "    if N == 0: \n",
    "        D = 0.\n",
    "        x = 1.\n",
    "    else:\n",
    "        n = arange(0, N + 1)\n",
    "        x = cos(pi * n / N).reshape(N + 1, 1)\n",
    "        c = (hstack(([2.], ones(N - 1), [2.])) * (-1)**n).reshape(N + 1, 1)\n",
    "        X = tile(x, (1, N + 1))\n",
    "        dX = X - X.T\n",
    "        D = dot(c, 1. / c.T) / (dX + eye(N + 1))\n",
    "        D -= diag(sum(D.T, axis=0))\n",
    "    return D, x.reshape(N + 1)\n"
   ]
  },
  {
   "cell_type": "code",
   "execution_count": 10,
   "metadata": {},
   "outputs": [],
   "source": [
    "# Define parameters\n",
    "N = 30\n",
    "D, x = odefunc_cheby(N)\n",
    "\n",
    "D[N, :] = 0  \n",
    "D[0, :] = 0  \n",
    "\n",
    "Dxx = (np.dot(D, D)) / ((20 / 2)**2)\n",
    "y = x\n",
    "x, y = np.meshgrid(x, y)\n",
    "x = x * (20 / 2)  \n",
    "y = y * (20 / 2)  \n",
    "\n",
    "# 2D Laplacian using Kronecker product\n",
    "I = np.eye(len(Dxx))\n",
    "L = kron(I, Dxx) + kron(Dxx, I)\n",
    "N2 = (N + 1) * (N + 1)\n"
   ]
  },
  {
   "cell_type": "code",
   "execution_count": 11,
   "metadata": {},
   "outputs": [],
   "source": [
    "m = 1  \n",
    "B = np.sqrt(x**2 + y**2)\n",
    "Theta = m * np.angle(x + 1j * y) - B\n",
    "u = np.tanh(B) * np.cos(Theta)\n",
    "v = np.tanh(B) * np.sin(Theta)\n",
    "uv0 = np.hstack([u.flatten(), v.flatten()])\n"
   ]
  },
  {
   "cell_type": "code",
   "execution_count": 12,
   "metadata": {},
   "outputs": [],
   "source": [
    "def RD_2D(t, uv):\n",
    "   \n",
    "    u = uv[:N2]\n",
    "    v = uv[N2:]\n",
    "\n",
    "    A2 = u**2 + v**2\n",
    "    lam = 1 - A2\n",
    "    omega = -A2\n",
    "\n",
    "    rhs_u = D1 * np.dot(L, u) + lam * u - omega * v\n",
    "    rhs_v = D2 * np.dot(L, v) + omega * u + lam * v\n",
    "\n",
    "    rhs = np.hstack([rhs_u, rhs_v])\n",
    "    return rhs\n"
   ]
  },
  {
   "cell_type": "code",
   "execution_count": 13,
   "metadata": {},
   "outputs": [
    {
     "name": "stdout",
     "output_type": "stream",
     "text": [
      "Shape of A2: (1922, 9)\n",
      "[[ 0.70358468  0.27678435 -0.21775865 ... -0.79689015 -0.40972859\n",
      "   0.07776933]\n",
      " [ 0.73241275  0.47188952  0.07344742 ... -0.96577657 -0.78500366\n",
      "  -0.4261521 ]\n",
      " [ 0.81058026  0.37605887 -0.11123233 ... -0.84008598 -0.49565779\n",
      "  -0.03085913]\n",
      " ...\n",
      " [ 0.58562756  0.91352592  0.97914313 ... -0.50294695 -0.84298442\n",
      "  -0.97634716]\n",
      " [ 0.6808609   0.87018536  0.97997159 ... -0.16453512 -0.5878894\n",
      "  -0.88455009]\n",
      " [ 0.71061143  0.96093661  0.97601586 ... -0.60413504 -0.91222169\n",
      "  -0.99697897]]\n"
     ]
    }
   ],
   "source": [
    "# Define additional parameters\n",
    "D1, D2 = 0.1, 0.1  \n",
    "t_span = [0, 4]\n",
    "t_eval = np.linspace(0, 4, 9)\n",
    "\n",
    "# Solve the system\n",
    "sol = solve_ivp(fun=RD_2D, t_span=t_span, y0=uv0, t_eval=t_eval, method='RK45', vectorized=False)\n",
    "\n",
    "# Reshape and verify the solution\n",
    "A2 = sol.y\n",
    "print(\"Shape of A2:\", A2.shape) \n",
    "\n",
    "print(A2)"
   ]
  }
 ],
 "metadata": {
  "kernelspec": {
   "display_name": "base",
   "language": "python",
   "name": "python3"
  },
  "language_info": {
   "codemirror_mode": {
    "name": "ipython",
    "version": 3
   },
   "file_extension": ".py",
   "mimetype": "text/x-python",
   "name": "python",
   "nbconvert_exporter": "python",
   "pygments_lexer": "ipython3",
   "version": "3.12.5"
  }
 },
 "nbformat": 4,
 "nbformat_minor": 2
}
