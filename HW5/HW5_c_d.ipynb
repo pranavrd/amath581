{
 "cells": [
  {
   "cell_type": "code",
   "execution_count": 69,
   "metadata": {},
   "outputs": [],
   "source": [
    "import numpy as np\n",
    "import matplotlib.pyplot as plt\n",
    "import time\n",
    "from scipy.fftpack import fft, fft2, ifft2\n",
    "from scipy.integrate import solve_ivp\n",
    "from scipy.linalg import solve, solve_triangular, lu\n",
    "from scipy.sparse import spdiags"
   ]
  },
  {
   "cell_type": "code",
   "execution_count": 76,
   "metadata": {},
   "outputs": [],
   "source": [
    "t_span = np.arange(0, 60.5, 0.5)\n",
    "nu = 0.001\n",
    "Lx, Ly = 20, 20\n",
    "nx, ny = 64, 64\n",
    "N = nx * ny\n",
    "\n",
    "x2 = np.linspace(-Lx/2, Lx/2, nx + 1)\n",
    "x = x2[:nx]\n",
    "y2 = np.linspace(-Ly/2, Ly/2, ny + 1)\n",
    "y = y2[:ny]\n",
    "X, Y = np.meshgrid(x, y)\n",
    "\n",
    "omega1 = (np.exp((-(X-5)**2 - Y**2 / 20))).flatten()\n",
    "omega2 = -1 * (np.exp((-(X+5)**2 - Y**2 / 20))).flatten()\n",
    "omega3 = -1 * omega1\n",
    "omega4 = -1 * (np.exp((-(X-1)**2 - Y**2 / 20))).flatten()\n",
    "\n",
    "\n",
    "kx = (2 * np.pi / Lx) * np.concatenate((np.arange(0, nx/2), np.arange(-nx/2, 0)))\n",
    "kx[0] = 1e-6\n",
    "ky = (2 * np.pi / Ly) * np.concatenate((np.arange(0, ny/2), np.arange(-ny/2, 0)))\n",
    "ky[0] = 1e-6\n",
    "KX, KY = np.meshgrid(kx, ky)\n",
    "K = KX**2 + KY**2"
   ]
  },
  {
   "cell_type": "code",
   "execution_count": 71,
   "metadata": {},
   "outputs": [],
   "source": [
    "# HW4 i.c.\n",
    "m = 64\n",
    "L = 20\n",
    "dx = L / m\n",
    "n = m * m\n",
    "\n",
    "e0 = np.zeros(n)\n",
    "e1 = np.ones(n)\n",
    "e2 = np.copy(e1)\n",
    "e4 = np.copy(e0)\n",
    "\n",
    "for j in range(1, m+1):\n",
    "    e2[m*j - 1] = 0 \n",
    "    e4[m*j - 1] = 1\n",
    "\n",
    "# Adjusted vectors for diagonals\n",
    "e3 = np.zeros_like(e2)\n",
    "e3[1:n] = e2[0:n-1]\n",
    "e3[0] = e2[n-1]\n",
    "\n",
    "e5 = np.zeros_like(e4)\n",
    "e5[1:n] = e4[0:n-1]\n",
    "e5[0] = e4[n-1]\n",
    "\n",
    "# Construct Matrix a (Laplacian)\n",
    "diagonals_A = [e1, e1, e5, e2, -4 * e1, e3, e4, e1, e1]\n",
    "offsets_A = [-(n - m), -m, -m + 1, -1, 0, 1, m - 1, m, (n - m)]\n",
    "A = (spdiags(diagonals_A, offsets_A, n, n) / (dx**2)).toarray()\n",
    "\n",
    "# Construct Matrix C (Partial derivative with respect to y)\n",
    "diagonals_B = [e1, -e1, e1, -e1]\n",
    "offsets_B = [-(n - m),-m, m, (n - m)]\n",
    "B = (spdiags(diagonals_B, offsets_B, n, n) / (2 * dx)).toarray()\n",
    "\n",
    "# Construct Matrix b (Partial derivative with respect to x)\n",
    "diagonals_C = [e5, -e2, e3, -e4]\n",
    "offsets_C = [-m + 1, -1, 1, m - 1]\n",
    "C = (spdiags(diagonals_C, offsets_C, n, n) / (2 * dx)).toarray()\n",
    "\n",
    "A[0, 0] = 2"
   ]
  },
  {
   "cell_type": "code",
   "execution_count": 77,
   "metadata": {},
   "outputs": [],
   "source": [
    "def spc_rhs(t, omega, nx, ny, K, nu):\n",
    "    wt = fft2(omega.reshape((nx, ny)))\n",
    "    psit = -wt / K\n",
    "    psi = (np.real(ifft2(psit))).flatten()\n",
    "    rhs = nu * np.dot(A, omega) - np.dot(B, psi) * np.dot(C, omega) + np.dot(C, psi) * np.dot(B, omega)\n",
    "    return rhs\n",
    "\n",
    "\n",
    "wtsol1 = solve_ivp(spc_rhs, (0, t_span[-1]), omega1, t_eval=t_span, method = 'RK45', args = (nx, ny, K, nu))\n",
    "wtsol2 = solve_ivp(spc_rhs, (0, t_span[-1]), omega2, t_eval=t_span, method = 'RK45', args = (nx, ny, K, nu))\n",
    "wtsol3 = solve_ivp(spc_rhs, (0, t_span[-1]), omega3, t_eval=t_span, method = 'RK45', args = (nx, ny, K, nu))\n",
    "wtsol4 = solve_ivp(spc_rhs, (0, t_span[-1]), omega4, t_eval=t_span, method = 'RK45', args = (nx, ny, K, nu))\n",
    "A1 = wtsol1.y\n",
    "A2 = wtsol2.y\n",
    "A3 = wtsol3.y\n",
    "A4 = wtsol4.y\n",
    "\n"
   ]
  },
  {
   "cell_type": "code",
   "execution_count": 73,
   "metadata": {},
   "outputs": [
    {
     "name": "stdout",
     "output_type": "stream",
     "text": [
      "GIF created successfully!\n"
     ]
    }
   ],
   "source": [
    "# solver for oppsite amps\n",
    "import imageio.v2 as imageio\n",
    "import os\n",
    "\n",
    "gif_frames = []\n",
    "\n",
    "# # Plot the solution at each time step and save frames\n",
    "for j, t in enumerate(t_span):\n",
    "    wtc1 = A1[:, j].reshape((ny, nx)) \n",
    "    wtc2 = A2[:, j].reshape((ny, nx))\n",
    "    wtc_opp = wtc1 + wtc2 \n",
    "    \n",
    "    # Create plot\n",
    "    fig, ax = plt.subplots()\n",
    "    c = ax.pcolor(x, y, wtc_opp, shading='nearest', cmap='gnuplot')\n",
    "    fig.colorbar(c)\n",
    "    ax.set_title(f'Time: {t}')\n",
    "    \n",
    "    # Save the current plot as an image frame\n",
    "    plt.savefig('frame.png')  # Save frame to file\n",
    "    plt.close(fig)\n",
    "    \n",
    "    # Append the frame to gif_frames list\n",
    "    gif_frames.append(imageio.imread('frame.png'))\n",
    "\n",
    "# Create the .gif\n",
    "imageio.mimsave('opposite_charged.gif', gif_frames, duration=0.2)  # 0.5 seconds between frames\n",
    "os.remove('frame.png')\n",
    "\n",
    "print(\"GIF created successfully!\")"
   ]
  },
  {
   "cell_type": "code",
   "execution_count": 74,
   "metadata": {},
   "outputs": [
    {
     "name": "stdout",
     "output_type": "stream",
     "text": [
      "GIF created successfully!\n"
     ]
    }
   ],
   "source": [
    "# solver for same amps\n",
    "import imageio.v2 as imageio\n",
    "import os\n",
    "\n",
    "gif_frames = []\n",
    "\n",
    "# # Plot the solution at each time step and save frames\n",
    "for j, t in enumerate(t_span):\n",
    "    wtc2 = A2[:, j].reshape((ny, nx))\n",
    "    wtc3 = A3[:, j].reshape((ny, nx))\n",
    "    wtc_same = wtc2 + wtc3\n",
    "    \n",
    "    # Create plot\n",
    "    fig, ax = plt.subplots()\n",
    "    c = ax.pcolor(x, y, wtc_same, shading='nearest', cmap='gnuplot')\n",
    "    fig.colorbar(c)\n",
    "    ax.set_title(f'Time: {t}')\n",
    "    \n",
    "    # Save the current plot as an image frame\n",
    "    plt.savefig('frame.png')  # Save frame to file\n",
    "    plt.close(fig)\n",
    "    \n",
    "    # Append the frame to gif_frames list\n",
    "    gif_frames.append(imageio.imread('frame.png'))\n",
    "\n",
    "# Create the .gif\n",
    "imageio.mimsave('same_charge.gif', gif_frames, duration=0.2)  # 0.5 seconds between frames\n",
    "os.remove('frame.png')\n",
    "\n",
    "print(\"GIF created successfully!\")"
   ]
  },
  {
   "cell_type": "code",
   "execution_count": 78,
   "metadata": {},
   "outputs": [
    {
     "name": "stdout",
     "output_type": "stream",
     "text": [
      "GIF created successfully!\n"
     ]
    }
   ],
   "source": [
    "# solver for oppsite amps colliding\n",
    "import imageio.v2 as imageio\n",
    "import os\n",
    "\n",
    "gif_frames = []\n",
    "\n",
    "# # Plot the solution at each time step and save frames\n",
    "for j, t in enumerate(t_span):\n",
    "    wtc1 = A1[:, j].reshape((ny, nx)) \n",
    "    wtc4 = A4[:, j].reshape((ny, nx))\n",
    "    wtc_opp = wtc1 + wtc4\n",
    "    \n",
    "    # Create plot\n",
    "    fig, ax = plt.subplots()\n",
    "    c = ax.pcolor(x, y, wtc_opp, shading='nearest', cmap='gnuplot')\n",
    "    fig.colorbar(c)\n",
    "    ax.set_title(f'Time: {t}')\n",
    "    \n",
    "    # Save the current plot as an image frame\n",
    "    plt.savefig('frame.png')  # Save frame to file\n",
    "    plt.close(fig)\n",
    "    \n",
    "    # Append the frame to gif_frames list\n",
    "    gif_frames.append(imageio.imread('frame.png'))\n",
    "\n",
    "# Create the .gif\n",
    "imageio.mimsave('opposite_collide.gif', gif_frames, duration=0.2)  # 0.5 seconds between frames\n",
    "os.remove('frame.png')\n",
    "\n",
    "print(\"GIF created successfully!\")"
   ]
  },
  {
   "cell_type": "code",
   "execution_count": null,
   "metadata": {},
   "outputs": [],
   "source": []
  }
 ],
 "metadata": {
  "kernelspec": {
   "display_name": "amath581hwenv",
   "language": "python",
   "name": "python3"
  },
  "language_info": {
   "codemirror_mode": {
    "name": "ipython",
    "version": 3
   },
   "file_extension": ".py",
   "mimetype": "text/x-python",
   "name": "python",
   "nbconvert_exporter": "python",
   "pygments_lexer": "ipython3",
   "version": "3.12.5"
  }
 },
 "nbformat": 4,
 "nbformat_minor": 2
}
