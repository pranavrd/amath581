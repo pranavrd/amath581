{
 "cells": [
  {
   "cell_type": "code",
   "execution_count": 2,
   "metadata": {},
   "outputs": [],
   "source": [
    "import numpy as np"
   ]
  },
  {
   "cell_type": "code",
   "execution_count": 3,
   "metadata": {},
   "outputs": [],
   "source": [
    "def f(x):\n",
    "    return x * np.sin(3*x) - np.exp(x)\n",
    "\n",
    "def df(x):\n",
    "    return np.sin(3*x) + 3*x*np.cos(3*x) - np.exp(x)"
   ]
  },
  {
   "cell_type": "code",
   "execution_count": null,
   "metadata": {},
   "outputs": [],
   "source": [
    "x = np.array([-1.6])\n",
    "for i in range(1000):\n",
    "    x = np.append(x, x [i] - f(x[i]) / df(x[i]))\n",
    "    fc = f(x[i+1])\n",
    "\n",
    "    if abs(fc) < 1e-6 :\n",
    "        break\n",
    "\n",
    "display(x)\n",
    "display(i)\n",
    "display(x[i])\n",
    "display(fc)\n",
    "\n",
    "np.save('A1.npy', x)"
   ]
  },
  {
   "cell_type": "code",
   "execution_count": null,
   "metadata": {},
   "outputs": [],
   "source": [
    "xl = -0.7\n",
    "xr = -0.4\n",
    "xcstore = np.array([])\n",
    "for j in range(0,1000):\n",
    "    xc = (xl + xr) / 2\n",
    "    fc = f(xc)\n",
    "    if fc > 0 :\n",
    "        xl = xc\n",
    "    else :\n",
    "        xr = xc\n",
    "\n",
    "    xcstore = np.append(xcstore, xc)\n",
    "    if abs(fc) < 1e-6 :\n",
    "        break\n",
    "    \n",
    "\n",
    "display(xcstore)\n",
    "display(j)\n",
    "display(xc)\n",
    "display(fc)\n",
    "\n",
    "np.save('A2.npy', xcstore)\n",
    "np.save('A3.npy', [i,j])"
   ]
  },
  {
   "cell_type": "code",
   "execution_count": null,
   "metadata": {},
   "outputs": [],
   "source": [
    "a1 = np.load('A1.npy')\n",
    "a2 = np.load('A2.npy')\n",
    "a3 = np.load('A3.npy')\n",
    "\n",
    "display(a1)\n",
    "display(a2)\n",
    "display(a3)"
   ]
  }
 ],
 "metadata": {
  "kernelspec": {
   "display_name": "amath581hwenv",
   "language": "python",
   "name": "python3"
  },
  "language_info": {
   "codemirror_mode": {
    "name": "ipython",
    "version": 3
   },
   "file_extension": ".py",
   "mimetype": "text/x-python",
   "name": "python",
   "nbconvert_exporter": "python",
   "pygments_lexer": "ipython3",
   "version": "3.12.5"
  }
 },
 "nbformat": 4,
 "nbformat_minor": 2
}
