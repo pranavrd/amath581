{
 "cells": [
  {
   "cell_type": "code",
   "execution_count": 2,
   "metadata": {},
   "outputs": [],
   "source": [
    "import numpy as np"
   ]
  },
  {
   "cell_type": "code",
   "execution_count": 3,
   "metadata": {},
   "outputs": [],
   "source": [
    "def f(x):\n",
    "    return x * np.sin(3*x) - np.exp(x)\n",
    "\n",
    "def df(x):\n",
    "    return np.sin(3*x) + 3*x*np.cos(3*x) - np.exp(x)"
   ]
  },
  {
   "cell_type": "code",
   "execution_count": 33,
   "metadata": {},
   "outputs": [
    {
     "data": {
      "text/plain": [
       "array([-1.6       ,  3.19799514,  2.46440244,  1.2035359 ,  0.65020146,\n",
       "       -0.11692334, -0.66052349, -0.52192654, -0.56655274, -0.57074658,\n",
       "       -0.57078962])"
      ]
     },
     "metadata": {},
     "output_type": "display_data"
    },
    {
     "data": {
      "text/plain": [
       "9"
      ]
     },
     "metadata": {},
     "output_type": "display_data"
    },
    {
     "data": {
      "text/plain": [
       "np.float64(-0.5707465821813341)"
      ]
     },
     "metadata": {},
     "output_type": "display_data"
    },
    {
     "data": {
      "text/plain": [
       "np.float64(-6.016180886803113e-09)"
      ]
     },
     "metadata": {},
     "output_type": "display_data"
    }
   ],
   "source": [
    "x = np.array([-1.6])\n",
    "for i in range(1000):\n",
    "    x = np.append(x, x [i] - f(x[i]) / df(x[i]))\n",
    "    fc = f(x[i+1])\n",
    "\n",
    "    if abs(fc) < 1e-6 :\n",
    "        break\n",
    "\n",
    "display(x)\n",
    "display(i)\n",
    "display(x[i])\n",
    "display(fc)\n",
    "\n",
    "np.save('A1.npy', x)"
   ]
  },
  {
   "cell_type": "code",
   "execution_count": 27,
   "metadata": {},
   "outputs": [
    {
     "data": {
      "text/plain": [
       "array([-0.55      , -0.625     , -0.5875    , -0.56875   , -0.578125  ,\n",
       "       -0.5734375 , -0.57109375, -0.56992188, -0.57050781, -0.57080078,\n",
       "       -0.5706543 , -0.57072754, -0.57076416, -0.57078247, -0.57079163,\n",
       "       -0.57078705, -0.57078934])"
      ]
     },
     "metadata": {},
     "output_type": "display_data"
    },
    {
     "data": {
      "text/plain": [
       "16"
      ]
     },
     "metadata": {},
     "output_type": "display_data"
    },
    {
     "data": {
      "text/plain": [
       "-0.5707893371582031"
      ]
     },
     "metadata": {},
     "output_type": "display_data"
    },
    {
     "data": {
      "text/plain": [
       "np.float64(-3.747433618972451e-07)"
      ]
     },
     "metadata": {},
     "output_type": "display_data"
    }
   ],
   "source": [
    "xl = -0.7\n",
    "xr = -0.4\n",
    "xcstore = np.array([])\n",
    "for j in range(0,1000):\n",
    "    xc = (xl + xr) / 2\n",
    "    fc = f(xc)\n",
    "    if fc > 0 :\n",
    "        xl = xc\n",
    "    else :\n",
    "        xr = xc\n",
    "\n",
    "    xcstore = np.append(xcstore, xc)\n",
    "    if abs(fc) < 1e-6 :\n",
    "        break\n",
    "    \n",
    "\n",
    "display(xcstore)\n",
    "display(j)\n",
    "display(xc)\n",
    "display(fc)\n",
    "\n",
    "np.save('A2.npy', xcstore)\n",
    "np.save('A3.npy', [i,j])"
   ]
  },
  {
   "cell_type": "code",
   "execution_count": 32,
   "metadata": {},
   "outputs": [
    {
     "data": {
      "text/plain": [
       "array([-1.6       ,  3.19799514,  2.46440244,  1.2035359 ,  0.65020146,\n",
       "       -0.11692334, -0.66052349, -0.52192654, -0.56655274, -0.57074658,\n",
       "       -0.57078962])"
      ]
     },
     "metadata": {},
     "output_type": "display_data"
    },
    {
     "data": {
      "text/plain": [
       "array([-0.55      , -0.625     , -0.5875    , -0.56875   , -0.578125  ,\n",
       "       -0.5734375 , -0.57109375, -0.56992188, -0.57050781, -0.57080078,\n",
       "       -0.5706543 , -0.57072754, -0.57076416, -0.57078247, -0.57079163,\n",
       "       -0.57078705, -0.57078934])"
      ]
     },
     "metadata": {},
     "output_type": "display_data"
    },
    {
     "data": {
      "text/plain": [
       "array([ 9, 16])"
      ]
     },
     "metadata": {},
     "output_type": "display_data"
    }
   ],
   "source": [
    "a1 = np.load('A1.npy')\n",
    "a2 = np.load('A2.npy')\n",
    "a3 = np.load('A3.npy')\n",
    "\n",
    "display(a1)\n",
    "display(a2)\n",
    "display(a3)"
   ]
  }
 ],
 "metadata": {
  "kernelspec": {
   "display_name": "amath581hwenv",
   "language": "python",
   "name": "python3"
  },
  "language_info": {
   "codemirror_mode": {
    "name": "ipython",
    "version": 3
   },
   "file_extension": ".py",
   "mimetype": "text/x-python",
   "name": "python",
   "nbconvert_exporter": "python",
   "pygments_lexer": "ipython3",
   "version": "3.12.5"
  }
 },
 "nbformat": 4,
 "nbformat_minor": 2
}
