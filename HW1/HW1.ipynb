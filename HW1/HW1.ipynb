{
 "cells": [
  {
   "cell_type": "code",
   "execution_count": 1,
   "metadata": {},
   "outputs": [],
   "source": [
    "import numpy as np"
   ]
  },
  {
   "cell_type": "code",
   "execution_count": 2,
   "metadata": {},
   "outputs": [],
   "source": [
    "def f(x):\n",
    "    return x * np.sin(3*x) - np.exp(x)\n",
    "\n",
    "def df(x):\n",
    "    return np.sin(3*x) + 3*x*np.cos(3*x) - np.exp(x)"
   ]
  },
  {
   "cell_type": "code",
   "execution_count": 3,
   "metadata": {},
   "outputs": [
    {
     "data": {
      "text/plain": [
       "array([-1.6       ,  3.19799514,  2.46440244,  1.2035359 ,  0.65020146,\n",
       "       -0.11692334, -0.66052349, -0.52192654, -0.56655274, -0.57074658,\n",
       "       -0.57078962, -0.57078962])"
      ]
     },
     "metadata": {},
     "output_type": "display_data"
    },
    {
     "data": {
      "text/plain": [
       "11"
      ]
     },
     "metadata": {},
     "output_type": "display_data"
    },
    {
     "data": {
      "text/plain": [
       "np.float64(-0.57078961788788)"
      ]
     },
     "metadata": {},
     "output_type": "display_data"
    },
    {
     "data": {
      "text/plain": [
       "np.float64(-6.016180886803113e-09)"
      ]
     },
     "metadata": {},
     "output_type": "display_data"
    }
   ],
   "source": [
    "x = np.array([-1.6])\n",
    "for i in range(1000):\n",
    "    x = np.append(x, x [i] - f(x[i]) / df(x[i]))\n",
    "    fc = f(x[i])\n",
    "\n",
    "    if abs(fc) < 1e-6 :\n",
    "        break\n",
    "\n",
    "display(x)\n",
    "display(i+1)\n",
    "display(x[i])\n",
    "display(fc)\n",
    "\n",
    "np.save('A1.npy', x)"
   ]
  },
  {
   "cell_type": "code",
   "execution_count": 4,
   "metadata": {},
   "outputs": [
    {
     "data": {
      "text/plain": [
       "array([-0.55      , -0.625     , -0.5875    , -0.56875   , -0.578125  ,\n",
       "       -0.5734375 , -0.57109375, -0.56992188, -0.57050781, -0.57080078,\n",
       "       -0.5706543 , -0.57072754, -0.57076416, -0.57078247, -0.57079163,\n",
       "       -0.57078705, -0.57078934])"
      ]
     },
     "metadata": {},
     "output_type": "display_data"
    },
    {
     "data": {
      "text/plain": [
       "17"
      ]
     },
     "metadata": {},
     "output_type": "display_data"
    },
    {
     "data": {
      "text/plain": [
       "-0.5707893371582031"
      ]
     },
     "metadata": {},
     "output_type": "display_data"
    },
    {
     "data": {
      "text/plain": [
       "np.float64(-3.747433618972451e-07)"
      ]
     },
     "metadata": {},
     "output_type": "display_data"
    }
   ],
   "source": [
    "xl = -0.7\n",
    "xr = -0.4\n",
    "xcstore = np.array([])\n",
    "for j in range(0,1000):\n",
    "    xc = (xl + xr) / 2\n",
    "    fc = f(xc)\n",
    "    if fc > 0 :\n",
    "        xl = xc\n",
    "    else :\n",
    "        xr = xc\n",
    "\n",
    "    xcstore = np.append(xcstore, xc)\n",
    "    if abs(fc) < 1e-6 :\n",
    "        break\n",
    "    \n",
    "\n",
    "display(xcstore)\n",
    "display(j+1)\n",
    "display(xc)\n",
    "display(fc)\n",
    "\n",
    "np.save('A2.npy', xcstore)\n",
    "np.save('A3.npy', [i+1,j+1])"
   ]
  },
  {
   "cell_type": "code",
   "execution_count": 5,
   "metadata": {},
   "outputs": [
    {
     "data": {
      "text/plain": [
       "array([ 3,  5, -1])"
      ]
     },
     "metadata": {},
     "output_type": "display_data"
    }
   ],
   "source": [
    "A = np.array([[1,2],[-1,1]])\n",
    "B = np.array([[2,0],[0,2]])\n",
    "C = np.array([[2,0,-3],[0,0,-1]])\n",
    "D = np.array([[1,2],[2,3],[-1,0]])\n",
    "x = np.array([1,0])\n",
    "y = np.array([0,1])\n",
    "z = np.array([1,2,-1])\n",
    "\n",
    "np.save('A4.npy', A + B)\n",
    "np.save('A5.npy', (3*x - 4*y))\n",
    "np.save('A6.npy', np.dot(A,x))\n",
    "np.save('A7.npy', np.dot(B, x - y))\n",
    "np.save('A8.npy', np.dot(D, x))\n",
    "np.save('A9.npy', np.dot(D, y) + z)\n",
    "np.save('A10.npy', np.dot(A, B))\n",
    "np.save('A11.npy', np.dot(B, C))\n",
    "np.save('A12.npy', np.dot(C, D))\n",
    "\n",
    "display((np.dot(D,y) +z))"
   ]
  },
  {
   "cell_type": "code",
   "execution_count": 6,
   "metadata": {},
   "outputs": [
    {
     "data": {
      "text/plain": [
       "array([ 3,  5, -1])"
      ]
     },
     "metadata": {},
     "output_type": "display_data"
    }
   ],
   "source": [
    "A1 = np.load('A1.npy')\n",
    "A2 = np.load('A2.npy')\n",
    "A3 = np.load('A3.npy')\n",
    "A4 = np.load('A4.npy')\n",
    "A5 = np.load('A5.npy')\n",
    "A6 = np.load('A6.npy')\n",
    "A7 = np.load('A7.npy')\n",
    "A8 = np.load('A8.npy')\n",
    "A9 = np.load('A9.npy')\n",
    "A10 = np.load('A10.npy')\n",
    "A11 = np.load('A11.npy')\n",
    "A12 = np.load('A12.npy')\n",
    "\n",
    "display(A9)"
   ]
  }
 ],
 "metadata": {
  "kernelspec": {
   "display_name": "Python 3 (ipykernel)",
   "language": "python",
   "name": "python3"
  },
  "language_info": {
   "codemirror_mode": {
    "name": "ipython",
    "version": 3
   },
   "file_extension": ".py",
   "mimetype": "text/x-python",
   "name": "python",
   "nbconvert_exporter": "python",
   "pygments_lexer": "ipython3",
   "version": "3.12.4"
  }
 },
 "nbformat": 4,
 "nbformat_minor": 4
}
