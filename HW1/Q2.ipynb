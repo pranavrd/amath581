{
 "cells": [
  {
   "cell_type": "code",
   "execution_count": 24,
   "metadata": {},
   "outputs": [],
   "source": [
    "import numpy as np"
   ]
  },
  {
   "cell_type": "code",
   "execution_count": 18,
   "metadata": {},
   "outputs": [],
   "source": [
    "A = np.array([[1,2],[-1,1]])\n",
    "B = np.array([[2,0],[0,2]])\n",
    "C = np.array([[2,0,-3],[0,0,-1]])\n",
    "D = np.array([[1,2],[2,3],[-1,0]])\n",
    "x = np.array([[1],[0]])\n",
    "y = np.array([[0],[1]])\n",
    "z = np.array([[1],[2],[-1]])\n",
    "\n",
    "np.save('A4.npy', A + B)\n",
    "np.save('A5.npy', (3*x - 4*y))\n",
    "np.save('A6.npy', np.dot(A,x))\n",
    "np.save('A7.npy', np.dot(B, x - y))\n",
    "np.save('A8.npy', np.dot(D, x))\n",
    "np.save('A9.npy', np.dot(D, y) + z)\n",
    "np.save('A10.npy', np.dot(A, B))\n",
    "np.save('A11.npy', np.dot(B, C))\n",
    "np.save('A12.npy', np.dot(C, D))"
   ]
  },
  {
   "cell_type": "code",
   "execution_count": 23,
   "metadata": {},
   "outputs": [
    {
     "data": {
      "text/plain": [
       "array([[ 4.,  3., -1.],\n",
       "       [-2., -4.,  5.],\n",
       "       [ 1.,  2.,  6.]])"
      ]
     },
     "metadata": {},
     "output_type": "display_data"
    }
   ],
   "source": [
    "L = np.array([[1,0,0],[-0.5,1,0],[0.25,-0.5,1]])\n",
    "U = np.array([[4,3,-1],[0,-2.5,4.5],[0,0,8.5]])\n",
    "\n",
    "display(np.dot(L,U))"
   ]
  }
 ],
 "metadata": {
  "kernelspec": {
   "display_name": "amath581hwenv",
   "language": "python",
   "name": "python3"
  },
  "language_info": {
   "codemirror_mode": {
    "name": "ipython",
    "version": 3
   },
   "file_extension": ".py",
   "mimetype": "text/x-python",
   "name": "python",
   "nbconvert_exporter": "python",
   "pygments_lexer": "ipython3",
   "version": "3.12.5"
  }
 },
 "nbformat": 4,
 "nbformat_minor": 2
}
